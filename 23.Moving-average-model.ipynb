{
 "cells": [
  {
   "cell_type": "markdown",
   "metadata": {},
   "source": [
    "# Moving average model\n",
    "Residual errors, which can be a useful source of information, themselves form a time series that can have temporal structure.\n",
    "A simple autoregression model of this structure can be used to predict the forecast error, which\n",
    "in turn can be used to correct forecasts. This type of model is called a moving average model"
   ]
  },
  {
   "cell_type": "markdown",
   "metadata": {},
   "source": [
    "## Autoregression of Residual Error"
   ]
  },
  {
   "cell_type": "code",
   "execution_count": 61,
   "metadata": {},
   "outputs": [
    {
     "name": "stdout",
     "output_type": "stream",
     "text": [
      "Date\n",
      "1959-01-01    35\n",
      "1959-01-02    32\n",
      "1959-01-03    30\n",
      "1959-01-04    31\n",
      "1959-01-05    44\n",
      "Name: Births, dtype: int64\n"
     ]
    }
   ],
   "source": [
    "import pandas as pd\n",
    "from pandas import read_csv\n",
    "from pandas import concat\n",
    "from pandas import DataFrame\n",
    "from statsmodels.tsa.ar_model import AutoReg\n",
    "from matplotlib import pyplot as plt\n",
    "from sklearn.metrics import mean_squared_error\n",
    "from math import  sqrt\n",
    "\n",
    "series = read_csv('daily-total-female-births.csv', header=0, index_col=0, parse_dates=True,\n",
    "squeeze=True)\n",
    "\n",
    "print(series.head())"
   ]
  },
  {
   "cell_type": "code",
   "execution_count": 32,
   "metadata": {},
   "outputs": [
    {
     "data": {
      "image/png": "[encoded data removed]",
      "text/plain": [
       "<Figure size 432x288 with 1 Axes>"
      ]
     },
     "metadata": {
      "needs_background": "light"
     },
     "output_type": "display_data"
    },
    {
     "data": {
      "image/png": "[encoded data removed]",
      "text/plain": [
       "<Figure size 432x288 with 1 Axes>"
      ]
     },
     "metadata": {
      "needs_background": "light"
     },
     "output_type": "display_data"
    }
   ],
   "source": [
    "# Plotting ACF and PACF\n",
    "from statsmodels.graphics.tsaplots import plot_acf, plot_pacf\n",
    "plot_acf(series)\n",
    "plot_pacf(series)\n",
    "plt.show()"
   ]
  },
  {
   "cell_type": "markdown",
   "metadata": {},
   "source": [
    "We can see that there is a strong Partial autocorrelation in the lag order of 1\n",
    "So, we will take the order of moving average as 1"
   ]
  },
  {
   "cell_type": "code",
   "execution_count": 33,
   "metadata": {},
   "outputs": [
    {
     "data": {
      "text/html": [
       "<div>\n",
       "<style scoped>\n",
       "    .dataframe tbody tr th:only-of-type {\n",
       "        vertical-align: middle;\n",
       "    }\n",
       "\n",
       "    .dataframe tbody tr th {\n",
       "        vertical-align: top;\n",
       "    }\n",
       "\n",
       "    .dataframe thead th {\n",
       "        text-align: right;\n",
       "    }\n",
       "</style>\n",
       "<table border=\"1\" class=\"dataframe\">\n",
       "  <thead>\n",
       "    <tr style=\"text-align: right;\">\n",
       "      <th></th>\n",
       "      <th>t-1</th>\n",
       "      <th>t</th>\n",
       "    </tr>\n",
       "  </thead>\n",
       "  <tbody>\n",
       "    <tr>\n",
       "      <th>0</th>\n",
       "      <td>NaN</td>\n",
       "      <td>35</td>\n",
       "    </tr>\n",
       "    <tr>\n",
       "      <th>1</th>\n",
       "      <td>35.0</td>\n",
       "      <td>32</td>\n",
       "    </tr>\n",
       "    <tr>\n",
       "      <th>2</th>\n",
       "      <td>32.0</td>\n",
       "      <td>30</td>\n",
       "    </tr>\n",
       "    <tr>\n",
       "      <th>3</th>\n",
       "      <td>30.0</td>\n",
       "      <td>31</td>\n",
       "    </tr>\n",
       "    <tr>\n",
       "      <th>4</th>\n",
       "      <td>31.0</td>\n",
       "      <td>44</td>\n",
       "    </tr>\n",
       "  </tbody>\n",
       "</table>\n",
       "</div>"
      ],
      "text/plain": [
       "    t-1   t\n",
       "0   NaN  35\n",
       "1  35.0  32\n",
       "2  32.0  30\n",
       "3  30.0  31\n",
       "4  31.0  44"
      ]
     },
     "execution_count": 33,
     "metadata": {},
     "output_type": "execute_result"
    }
   ],
   "source": [
    "# create lagged dataset\n",
    "lag = 1\n",
    "values = DataFrame(series.values)\n",
    "dataframe = concat([values.shift(lag), values], axis=1)\n",
    "dataframe.columns = ['t-1', 't']\n",
    "dataframe.head()\n"
   ]
  },
  {
   "cell_type": "code",
   "execution_count": 50,
   "metadata": {},
   "outputs": [],
   "source": [
    "# train - test split\n",
    "length = dataframe.shape[0]\n",
    "train_size = int(length * 0.66)\n",
    "X = dataframe.values\n",
    "train, test = X[:train_size], X[train_size:]\n",
    "train_X, train_y = train[:,0] , train[:,1]\n",
    "test_X, test_y = test[:,0], test[:,1]\n"
   ]
  },
  {
   "cell_type": "markdown",
   "metadata": {},
   "source": [
    "## Step 1: Create a residual dataset\n",
    "\n",
    "First, we need to have a \"residual errors dataset\". In order to have that, first we need to create a model on the dataset, then collect the residual errors from that model's prediction. The model will use on the dataset will be a persistence model"
   ]
  },
  {
   "cell_type": "code",
   "execution_count": 51,
   "metadata": {},
   "outputs": [
    {
     "name": "stdout",
     "output_type": "stream",
     "text": [
      "[-3.0, -2.0, 1.0, 13.0, -15.0, 16.0, -2.0, -5.0, -11.0, 11.0, -5.0, 22.0, -8.0, -2.0, -8.0, 13.0, -7.0, -2.0, 11.0, -18.0, 19.0, -14.0, -7.0, 5.0, 6.0, -4.0, -4.0, 9.0, -6.0, -14.0, -1.0, 8.0, 13.0, -6.0, 12.0, -12.0, 13.0, -20.0, 0.0, 20.0, -15.0, 9.0, 6.0, -17.0, 18.0, -5.0, -2.0, 1.0, -7.0, 9.0, -11.0, -2.0, 17.0, -10.0, 3.0, -6.0, -2.0, -7.0, 5.0, -7.0, 17.0, -11.0, 2.0, 14.0, -6.0, -5.0, -7.0, 7.0, 6.0, -2.0, -4.0, -8.0, -4.0, 3.0, 12.0, 4.0, -5.0, -5.0, 9.0, 1.0, -3.0, -5.0, -4.0, 1.0, 21.0, -20.0, -4.0, 18.0, -9.0, -2.0, 2.0, 6.0, -13.0, 2.0, -3.0, 2.0, 3.0, 0.0, -4.0, 19.0, -19.0, 0.0, 4.0, -3.0, -3.0, 10.0, -8.0, 12.0, -16.0, 16.0, -1.0, 9.0, -20.0, 3.0, -2.0, 5.0, 2.0, 16.0, -7.0, -19.0, 3.0, 3.0, -5.0, 6.0, 8.0, -9.0, 14.0, -22.0, 4.0, 6.0, -5.0, 7.0, -1.0, 1.0, -4.0, -14.0, 10.0, 9.0, -7.0, 19.0, -14.0, 4.0, -4.0, -4.0, 6.0, -4.0, -6.0, 10.0, -3.0, -2.0, 7.0, 1.0, -12.0, 1.0, 13.0, 3.0, -15.0, -3.0, 13.0, -4.0, 6.0, -14.0, 7.0, -6.0, 5.0, -6.0, -4.0, 6.0, 4.0, -1.0, 6.0, -7.0, 9.0, -14.0, -3.0, 12.0, 1.0, -2.0, 0.0, 18.0, -16.0, 2.0, -7.0, -1.0, 8.0, -3.0, 15.0, -11.0, 5.0, -10.0, 6.0, -21.0, 9.0, 9.0, -3.0, 1.0, -6.0, 9.0, 0.0, 0.0, 2.0, -9.0, 4.0, -7.0, 1.0, 3.0, 6.0, -2.0, 4.0, -11.0, 5.0, 9.0, -11.0, 2.0, 5.0, 18.0, -19.0, -11.0, 4.0, 6.0, 4.0, -2.0, -2.0, -7.0, 2.0, 5.0, 1.0, -12.0, 11.0, -6.0, 8.0, 0.0, -6.0, -1.0, 5.0, 4.0, 2.0, -9.0, 1.0]\n"
     ]
    }
   ],
   "source": [
    "#train_pred = [x for x in train_X]\n",
    "residuals = [train_y[i]-train_X[i] for i in range(len(train_pred))]\n",
    "# remove nan:\n",
    "residuals = [x for x in residuals if str(x) != 'nan']\n",
    "\n",
    "print(residuals)"
   ]
  },
  {
   "cell_type": "markdown",
   "metadata": {},
   "source": [
    "## Step 2: Autoregression of the residual dataset"
   ]
  },
  {
   "cell_type": "code",
   "execution_count": 52,
   "metadata": {},
   "outputs": [
    {
     "data": {
      "text/plain": [
       "125"
      ]
     },
     "execution_count": 52,
     "metadata": {},
     "output_type": "execute_result"
    }
   ],
   "source": [
    "len(test_X)"
   ]
  },
  {
   "cell_type": "code",
   "execution_count": 53,
   "metadata": {},
   "outputs": [
    {
     "name": "stdout",
     "output_type": "stream",
     "text": [
      "Coef: [ 0.05361949 -0.46023983]\n",
      "Predict residuals: [ 0.24076237 -0.05718894  0.07994012  0.01682786  0.04587464  0.03250616\n",
      "  0.03865886  0.03582714  0.03713041  0.0365306   0.03680666  0.0366796\n",
      "  0.03673808  0.03671116  0.03672355  0.03671785  0.03672047  0.03671927\n",
      "  0.03671982  0.03671957  0.03671968  0.03671963  0.03671966  0.03671964\n",
      "  0.03671965  0.03671965  0.03671965  0.03671965  0.03671965  0.03671965\n",
      "  0.03671965  0.03671965  0.03671965  0.03671965  0.03671965  0.03671965\n",
      "  0.03671965  0.03671965  0.03671965  0.03671965  0.03671965  0.03671965\n",
      "  0.03671965  0.03671965  0.03671965  0.03671965  0.03671965  0.03671965\n",
      "  0.03671965  0.03671965  0.03671965  0.03671965  0.03671965  0.03671965\n",
      "  0.03671965  0.03671965  0.03671965  0.03671965  0.03671965  0.03671965\n",
      "  0.03671965  0.03671965  0.03671965  0.03671965  0.03671965  0.03671965\n",
      "  0.03671965  0.03671965  0.03671965  0.03671965  0.03671965  0.03671965\n",
      "  0.03671965  0.03671965  0.03671965  0.03671965  0.03671965  0.03671965\n",
      "  0.03671965  0.03671965  0.03671965  0.03671965  0.03671965  0.03671965\n",
      "  0.03671965  0.03671965  0.03671965  0.03671965  0.03671965  0.03671965\n",
      "  0.03671965  0.03671965  0.03671965  0.03671965  0.03671965  0.03671965\n",
      "  0.03671965  0.03671965  0.03671965  0.03671965  0.03671965  0.03671965\n",
      "  0.03671965  0.03671965  0.03671965  0.03671965  0.03671965  0.03671965\n",
      "  0.03671965  0.03671965  0.03671965  0.03671965  0.03671965  0.03671965\n",
      "  0.03671965  0.03671965  0.03671965  0.03671965  0.03671965  0.03671965\n",
      "  0.03671965  0.03671965  0.03671965  0.03671965  0.03671965  0.03671965\n",
      "  0.03671965]\n"
     ]
    },
    {
     "name": "stderr",
     "output_type": "stream",
     "text": [
      "/home/xuantung/anaconda3/lib/python3.8/site-packages/statsmodels/tsa/ar_model.py:248: FutureWarning: The parameter names will change after 0.12 is released. Set old_names to False to use the new names now. Set old_names to True to use the old names. \n",
      "  warnings.warn(\n"
     ]
    }
   ],
   "source": [
    "model = AutoReg(residuals, lags = lag)\n",
    "model_fit = model.fit()\n",
    "# collect params of the residual model\n",
    "coef = model_fit.params\n",
    "print('Coef: {}'.format(coef))\n",
    "# predict the residuals\n",
    "pred_residual = model_fit.predict(start=len(train_X), end=len(train_X) + len(test_X) +1)\n",
    "print(\"Predict residuals:\", pred_residual)"
   ]
  },
  {
   "cell_type": "markdown",
   "metadata": {},
   "source": [
    "## Step 3: Walk forward prediction using the predicted residuals"
   ]
  },
  {
   "cell_type": "code",
   "execution_count": 66,
   "metadata": {},
   "outputs": [
    {
     "data": {
      "image/png": "[encoded data removed]",
      "text/plain": [
       "<Figure size 432x288 with 1 Axes>"
      ]
     },
     "metadata": {
      "needs_background": "light"
     },
     "output_type": "display_data"
    }
   ],
   "source": [
    "pred_y = []\n",
    "for t in range(len(test)):\n",
    "    predict = test_X[t] + pred_residual[t]\n",
    "    pred_y.append(predict)\n",
    "\n",
    "# plot predicted error\n",
    "plt.plot(test_y)\n",
    "plt.plot(pred_y, color='red')\n",
    "plt.show()\n"
   ]
  },
  {
   "cell_type": "code",
   "execution_count": 64,
   "metadata": {},
   "outputs": [
    {
     "name": "stdout",
     "output_type": "stream",
     "text": [
      "[51. 41. 44. 38. 68. 40. 42. 51. 44. 45. 36. 57. 44. 42. 53. 42. 34. 40.\n",
      " 56. 44. 53. 55. 39. 59. 55. 73. 55. 44. 43. 40. 47. 51. 56. 49. 54. 56.\n",
      " 47. 44. 43. 42. 45. 50. 48. 43. 40. 59. 41. 42. 51. 49. 45. 43. 42. 38.\n",
      " 47. 38. 36. 42. 35. 28. 44. 36. 45. 46. 48. 49. 43. 42. 59. 45. 52. 46.\n",
      " 42. 40. 40. 45. 35. 35. 40. 39. 33. 42. 47. 51. 44. 40. 57. 49. 45. 49.\n",
      " 51. 46. 44. 52. 45. 32. 46. 41. 34. 33. 36. 49. 43. 43. 34. 39. 35. 52.\n",
      " 47. 52. 39. 40. 42. 42. 53. 39. 40. 38. 44. 34. 37. 52. 48. 55. 50.]\n"
     ]
    }
   ],
   "source": [
    "print(test_y)"
   ]
  },
  {
   "cell_type": "code",
   "execution_count": 65,
   "metadata": {},
   "outputs": [
    {
     "name": "stdout",
     "output_type": "stream",
     "text": [
      "[42.24076236823342, 50.94281105977779, 41.07994011975635, 44.01682786430739, 38.045874638116516, 68.03250615583495, 40.03865886386672, 42.035827142559334, 51.037130413496506, 44.036530596300075, 45.03680665606545, 36.03667960236557, 57.036738077538985, 44.03671116493503, 42.036723551187336, 53.03671785054066, 42.036720474205325, 34.03671926669034, 40.03671982243684, 56.03671956666016, 44.036719684378774, 53.03671963019998, 55.03671965513522, 39.03671964365903, 59.03671964894083, 55.03671964650994, 73.03671964762873, 55.03671964711382, 44.0367196473508, 43.03671964724173, 40.03671964729193, 47.036719647268825, 51.03671964727946, 56.036719647274566, 49.03671964727682, 54.03671964727578, 56.03671964727626, 47.03671964727604, 44.036719647276136, 43.036719647276094, 42.036719647276115, 45.03671964727611, 50.03671964727611, 48.03671964727611, 43.03671964727611, 40.03671964727611, 59.03671964727611, 41.03671964727611, 42.03671964727611, 51.03671964727611, 49.03671964727611, 45.03671964727611, 43.03671964727611, 42.03671964727611, 38.03671964727611, 47.03671964727611, 38.03671964727611, 36.03671964727611, 42.03671964727611, 35.03671964727611, 28.036719647276108, 44.03671964727611, 36.03671964727611, 45.03671964727611, 46.03671964727611, 48.03671964727611, 49.03671964727611, 43.03671964727611, 42.03671964727611, 59.03671964727611, 45.03671964727611, 52.03671964727611, 46.03671964727611, 42.03671964727611, 40.03671964727611, 40.03671964727611, 45.03671964727611, 35.03671964727611, 35.03671964727611, 40.03671964727611, 39.03671964727611, 33.03671964727611, 42.03671964727611, 47.03671964727611, 51.03671964727611, 44.03671964727611, 40.03671964727611, 57.03671964727611, 49.03671964727611, 45.03671964727611, 49.03671964727611, 51.03671964727611, 46.03671964727611, 44.03671964727611, 52.03671964727611, 45.03671964727611, 32.03671964727611, 46.03671964727611, 41.03671964727611, 34.03671964727611, 33.03671964727611, 36.03671964727611, 49.03671964727611, 43.03671964727611, 43.03671964727611, 34.03671964727611, 39.03671964727611, 35.03671964727611, 52.03671964727611, 47.03671964727611, 52.03671964727611, 39.03671964727611, 40.03671964727611, 42.03671964727611, 42.03671964727611, 53.03671964727611, 39.03671964727611, 40.03671964727611, 38.03671964727611, 44.03671964727611, 34.03671964727611, 37.03671964727611, 52.03671964727611, 48.03671964727611, 55.03671964727611]\n"
     ]
    }
   ],
   "source": [
    "print(pred_y)"
   ]
  }
 ],
 "metadata": {
  "interpreter": {
   "hash": "e47af529d91ff32dd833a185d8cb554f3ce2f3ce4fdfbe65088194cd2b7d9c6b"
  },
  "kernelspec": {
   "display_name": "Python 3.8.8 64-bit ('base': conda)",
   "name": "python3"
  },
  "language_info": {
   "codemirror_mode": {
    "name": "ipython",
    "version": 3
   },
   "file_extension": ".py",
   "mimetype": "text/x-python",
   "name": "python",
   "nbconvert_exporter": "python",
   "pygments_lexer": "ipython3",
   "version": "3.8.8"
  },
  "orig_nbformat": 2
 },
 "nbformat": 4,
 "nbformat_minor": 2
}
