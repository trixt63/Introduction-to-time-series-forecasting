{
 "cells": [
  {
   "cell_type": "markdown",
   "metadata": {},
   "source": [
    "# Stationarity in Time Series Data"
   ]
  },
  {
   "cell_type": "markdown",
   "metadata": {},
   "source": [
    "## Check for Stationary using Summary Statistics\n",
    "\n",
    "We can split the data, then check the mean and variance of each group. If they differ and the difference is statistically significant, the time\n",
    "series is likely non-stationary."
   ]
  },
  {
   "cell_type": "code",
   "execution_count": 3,
   "metadata": {},
   "outputs": [
    {
     "data": {
      "image/png": "[encoded data removed]",
      "text/plain": [
       "<Figure size 432x288 with 1 Axes>"
      ]
     },
     "metadata": {
      "needs_background": "light"
     },
     "output_type": "display_data"
    }
   ],
   "source": [
    "from pandas import read_csv\n",
    "from matplotlib import pyplot as plt\n",
    "\n",
    "series = read_csv(\"datasets/daily-total-female-births.csv\", index_col = 0, parse_dates=True, squeeze=True)\n",
    "series.hist()\n",
    "plt.show()"
   ]
  },
  {
   "cell_type": "markdown",
   "metadata": {},
   "source": [
    "We clearly see the\n",
    "bell curve-like shape of the Gaussian distribution, perhaps with a longer right tail."
   ]
  },
  {
   "cell_type": "code",
   "execution_count": 10,
   "metadata": {},
   "outputs": [
    {
     "name": "stdout",
     "output_type": "stream",
     "text": [
      "Mean X1: 39.76373626373626 ; Mean X2: 44.185792349726775\n",
      "Var X1: 49.21341021615746 ; Var X2: 48.708650601690096\n"
     ]
    }
   ],
   "source": [
    "# Split the dataset\n",
    "split = int(len(series)/2)\n",
    "X = series.values\n",
    "X1, X2 = X[0:split], X[split:]\n",
    "\n",
    "mean1, mean2 =X1.mean() , X2.mean()\n",
    "var1, var2 = X1.var(), X2.var()\n",
    "print(f'Mean X1: {mean1} ; Mean X2: {mean2}')\n",
    "print(f'Var X1: {var1} ; Var X2: {var2}')"
   ]
  },
  {
   "cell_type": "markdown",
   "metadata": {},
   "source": [
    "The mean and variance values are different, but in the\n",
    "same ball-park."
   ]
  },
  {
   "cell_type": "markdown",
   "metadata": {},
   "source": [
    "## Augmented Dickey-Fuller test\n",
    "- p-value > 0.05: Data is non-stationary\n",
    "- p-value <= 0.05: Data is stationary"
   ]
  },
  {
   "cell_type": "code",
   "execution_count": 16,
   "metadata": {},
   "outputs": [
    {
     "name": "stdout",
     "output_type": "stream",
     "text": [
      "ADF statistics: -4.808291253559765\n",
      "p-value: 5.2434129901498554e-05\n",
      "Critical values:\n",
      "1%: -3.448748905151901\n",
      "5%: -2.8696473721448728\n",
      "10%: -2.5710891239349585\n"
     ]
    }
   ],
   "source": [
    "from statsmodels.tsa.stattools import adfuller\n",
    "\n",
    "X = series.values\n",
    "result = adfuller(X)\n",
    "\n",
    "print(\"ADF statistic:\", result[0])\n",
    "print(\"p-value:\", result[1])\n",
    "print(\"Critical values:\")\n",
    "for key, value in result[4].items():\n",
    "    print(\"{}: {}\".format(key, value))"
   ]
  },
  {
   "cell_type": "markdown",
   "metadata": {},
   "source": [
    "- p-value is smaller than 0.05\n",
    "- ADF statistic = -4, much smaller than the critical values\n",
    "=> This dataset is stationary"
   ]
  },
  {
   "cell_type": "markdown",
   "metadata": {},
   "source": [
    "Next, let test a non-stationary dataset"
   ]
  },
  {
   "cell_type": "code",
   "execution_count": 17,
   "metadata": {},
   "outputs": [
    {
     "name": "stdout",
     "output_type": "stream",
     "text": [
      "ADF statistic: 0.8153688792060488\n",
      "p-value: 0.991880243437641\n",
      "Critical values:\n",
      "1%: -3.4816817173418295\n",
      "5%: -2.8840418343195267\n",
      "10%: -2.578770059171598\n"
     ]
    }
   ],
   "source": [
    "series = read_csv(\"datasets/airline-passengers.csv\", index_col=0, parse_dates=True, squeeze=True)\n",
    "X = series.values\n",
    "result = adfuller(X)\n",
    "\n",
    "print(\"ADF statistic:\", result[0])\n",
    "print(\"p-value:\", result[1])\n",
    "print(\"Critical values:\")\n",
    "for key, value in result[4].items():\n",
    "    print(\"{}: {}\".format(key, value))"
   ]
  },
  {
   "cell_type": "markdown",
   "metadata": {},
   "source": [
    "The ADF statistic is much larger than the critical values, and the p-value is nearly 1\n",
    "=> This dataset is far from stationary"
   ]
  }
 ],
 "metadata": {
  "interpreter": {
   "hash": "e47af529d91ff32dd833a185d8cb554f3ce2f3ce4fdfbe65088194cd2b7d9c6b"
  },
  "kernelspec": {
   "display_name": "Python 3.8.8 64-bit ('base': conda)",
   "name": "python3"
  },
  "language_info": {
   "codemirror_mode": {
    "name": "ipython",
    "version": 3
   },
   "file_extension": ".py",
   "mimetype": "text/x-python",
   "name": "python",
   "nbconvert_exporter": "python",
   "pygments_lexer": "ipython3",
   "version": "3.8.8"
  },
  "orig_nbformat": 4
 },
 "nbformat": 4,
 "nbformat_minor": 2
}
