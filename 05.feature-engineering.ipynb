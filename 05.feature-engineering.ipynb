{
 "metadata": {
  "language_info": {
   "codemirror_mode": {
    "name": "ipython",
    "version": 3
   },
   "file_extension": ".py",
   "mimetype": "text/x-python",
   "name": "python",
   "nbconvert_exporter": "python",
   "pygments_lexer": "ipython3",
   "version": "3.8.8-final"
  },
  "orig_nbformat": 2,
  "kernelspec": {
   "name": "python38864bitbaseconda663a2b7604b7450ca1a41a295aa231a4",
   "display_name": "Python 3.8.8 64-bit ('base': conda)"
  }
 },
 "nbformat": 4,
 "nbformat_minor": 2,
 "cells": [
  {
   "source": [
    "<h1> Basic feature engineering for time series forecasting <h1>"
   ],
   "cell_type": "markdown",
   "metadata": {}
  },
  {
   "source": [
    "<h2> Preparing data <h2>"
   ],
   "cell_type": "markdown",
   "metadata": {}
  },
  {
   "cell_type": "code",
   "execution_count": 49,
   "metadata": {},
   "outputs": [],
   "source": [
    "import pandas as pd"
   ]
  },
  {
   "cell_type": "code",
   "execution_count": 50,
   "metadata": {},
   "outputs": [
    {
     "output_type": "execute_result",
     "data": {
      "text/plain": [
       "Date\n",
       "1981-01-01    20.7\n",
       "1981-01-02    17.9\n",
       "1981-01-03    18.8\n",
       "1981-01-04    14.6\n",
       "1981-01-05    15.8\n",
       "Name: Temp, dtype: float64"
      ]
     },
     "metadata": {},
     "execution_count": 50
    }
   ],
   "source": [
    "#read the csv data file into a pandas series:\n",
    "series = pd.read_csv(\"daily-minimum-temperatures.csv\", index_col=0, parse_dates=True, squeeze=True)\n",
    "series.head()"
   ]
  },
  {
   "cell_type": "code",
   "execution_count": 51,
   "metadata": {},
   "outputs": [
    {
     "output_type": "execute_result",
     "data": {
      "text/plain": [
       "   month  day  temperature\n",
       "0      1    1         20.7\n",
       "1      1    2         17.9\n",
       "2      1    3         18.8\n",
       "3      1    4         14.6\n",
       "4      1    5         15.8"
      ],
      "text/html": "<div>\n<style scoped>\n    .dataframe tbody tr th:only-of-type {\n        vertical-align: middle;\n    }\n\n    .dataframe tbody tr th {\n        vertical-align: top;\n    }\n\n    .dataframe thead th {\n        text-align: right;\n    }\n</style>\n<table border=\"1\" class=\"dataframe\">\n  <thead>\n    <tr style=\"text-align: right;\">\n      <th></th>\n      <th>month</th>\n      <th>day</th>\n      <th>temperature</th>\n    </tr>\n  </thead>\n  <tbody>\n    <tr>\n      <th>0</th>\n      <td>1</td>\n      <td>1</td>\n      <td>20.7</td>\n    </tr>\n    <tr>\n      <th>1</th>\n      <td>1</td>\n      <td>2</td>\n      <td>17.9</td>\n    </tr>\n    <tr>\n      <th>2</th>\n      <td>1</td>\n      <td>3</td>\n      <td>18.8</td>\n    </tr>\n    <tr>\n      <th>3</th>\n      <td>1</td>\n      <td>4</td>\n      <td>14.6</td>\n    </tr>\n    <tr>\n      <th>4</th>\n      <td>1</td>\n      <td>5</td>\n      <td>15.8</td>\n    </tr>\n  </tbody>\n</table>\n</div>"
     },
     "metadata": {},
     "execution_count": 51
    }
   ],
   "source": [
    "# convert from pandas series to pandas DataFrame:\n",
    "dataframe = pd.DataFrame()\n",
    "dataframe[\"month\"] = [series.index[i].month for i in range(len(series))]\n",
    "dataframe[\"day\"] = [series.index[i].day for i in range(len(series))]\n",
    "dataframe['temperature'] = [series[i] for i in range(len(series))]\n",
    "dataframe.head()"
   ]
  },
  {
   "source": [
    "<h2>Lag features<h2>\n",
    "\n",
    "Transform time series forecasting problems into supervised learning problems, by predict Value(t+1) given the value at the previous time Value(t-1)\n",
    "\n",
    "```shift()``` is a method for pandas dataframe, that can create these shifted or lag features from a time series dataset\n",
    "\n",
    "\n"
   ],
   "cell_type": "markdown",
   "metadata": {}
  },
  {
   "cell_type": "code",
   "execution_count": 52,
   "metadata": {},
   "outputs": [
    {
     "output_type": "execute_result",
     "data": {
      "text/plain": [
       "    t-3   t-2   t-1     t\n",
       "0   NaN   NaN   NaN  20.7\n",
       "1   NaN   NaN  20.7  17.9\n",
       "2   NaN  20.7  17.9  18.8\n",
       "3  20.7  17.9  18.8  14.6\n",
       "4  17.9  18.8  14.6  15.8"
      ],
      "text/html": "<div>\n<style scoped>\n    .dataframe tbody tr th:only-of-type {\n        vertical-align: middle;\n    }\n\n    .dataframe tbody tr th {\n        vertical-align: top;\n    }\n\n    .dataframe thead th {\n        text-align: right;\n    }\n</style>\n<table border=\"1\" class=\"dataframe\">\n  <thead>\n    <tr style=\"text-align: right;\">\n      <th></th>\n      <th>t-3</th>\n      <th>t-2</th>\n      <th>t-1</th>\n      <th>t</th>\n    </tr>\n  </thead>\n  <tbody>\n    <tr>\n      <th>0</th>\n      <td>NaN</td>\n      <td>NaN</td>\n      <td>NaN</td>\n      <td>20.7</td>\n    </tr>\n    <tr>\n      <th>1</th>\n      <td>NaN</td>\n      <td>NaN</td>\n      <td>20.7</td>\n      <td>17.9</td>\n    </tr>\n    <tr>\n      <th>2</th>\n      <td>NaN</td>\n      <td>20.7</td>\n      <td>17.9</td>\n      <td>18.8</td>\n    </tr>\n    <tr>\n      <th>3</th>\n      <td>20.7</td>\n      <td>17.9</td>\n      <td>18.8</td>\n      <td>14.6</td>\n    </tr>\n    <tr>\n      <th>4</th>\n      <td>17.9</td>\n      <td>18.8</td>\n      <td>14.6</td>\n      <td>15.8</td>\n    </tr>\n  </tbody>\n</table>\n</div>"
     },
     "metadata": {},
     "execution_count": 52
    }
   ],
   "source": [
    "temps = pd.DataFrame(series.values)\n",
    "# \"shift()\" is a method for pandas dataframe, that can create these shifted or lag features from a time series dataset\n",
    "dataframe_shift = pd.concat([temps.shift(3), temps.shift(2), temps.shift(1), temps], axis=1)\n",
    "dataframe_shift.columns = ['t-3','t-2','t-1', 't']\n",
    "dataframe_shift.head()\n"
   ]
  },
  {
   "source": [
    "<h2>Rolling Window Statistics<h2>\n",
    "\n",
    "How to gather statistics of n values before values(t)?\n",
    "\n",
    "```rolling()``` method creates a new data structure with the window of values at each time step:"
   ],
   "cell_type": "markdown",
   "metadata": {}
  },
  {
   "cell_type": "code",
   "execution_count": 53,
   "metadata": {},
   "outputs": [
    {
     "output_type": "stream",
     "name": "stdout",
     "text": [
      "    Min       Mean   Max     t\n0   NaN        NaN   NaN  20.7\n1   NaN        NaN   NaN  17.9\n2   NaN        NaN   NaN  18.8\n3  17.9  19.133333  20.7  14.6\n4  14.6  17.100000  18.8  15.8\n5  14.6  16.400000  18.8  15.8\n6  14.6  15.400000  15.8  15.8\n7  15.8  15.800000  15.8  17.4\n8  15.8  16.333333  17.4  21.8\n"
     ]
    }
   ],
   "source": [
    "shifted = temps.shift(1)\n",
    "\n",
    "# \"rolling()\" method creates a new data structure with the window of values at each time step:\n",
    "window = shifted.rolling(window=3) # calculate the statistic of three time periods\n",
    "# we can then calculate different statistics with the window object:\n",
    "dataframe_rolling2 = pd.concat([window.min(), window.mean(), window.max(), temps], axis=1)\n",
    "dataframe_rolling2.columns = [\"Min\", \"Mean\", \"Max\", \"t\"]\n",
    "print(dataframe_rolling2.head(9))\n",
    "\n",
    "\n"
   ]
  },
  {
   "source": [
    "<h2>Expanding Window Statistics<h2>\n",
    "\n",
    "An Expanding window is another type of window that may be useful includes all previous data in the series\n",
    "\n",
    "The ```expanding()``` method help collects sets of all prior values for each time step"
   ],
   "cell_type": "markdown",
   "metadata": {}
  },
  {
   "cell_type": "code",
   "execution_count": 54,
   "metadata": {},
   "outputs": [
    {
     "output_type": "execute_result",
     "data": {
      "text/plain": [
       "    min       mean   max     t\n",
       "0  20.7  20.700000  20.7  17.9\n",
       "1  17.9  19.300000  20.7  18.8\n",
       "2  17.9  19.133333  20.7  14.6\n",
       "3  14.6  18.000000  20.7  15.8\n",
       "4  14.6  17.560000  20.7  15.8\n",
       "5  14.6  17.266667  20.7  15.8\n",
       "6  14.6  17.057143  20.7  17.4"
      ],
      "text/html": "<div>\n<style scoped>\n    .dataframe tbody tr th:only-of-type {\n        vertical-align: middle;\n    }\n\n    .dataframe tbody tr th {\n        vertical-align: top;\n    }\n\n    .dataframe thead th {\n        text-align: right;\n    }\n</style>\n<table border=\"1\" class=\"dataframe\">\n  <thead>\n    <tr style=\"text-align: right;\">\n      <th></th>\n      <th>min</th>\n      <th>mean</th>\n      <th>max</th>\n      <th>t</th>\n    </tr>\n  </thead>\n  <tbody>\n    <tr>\n      <th>0</th>\n      <td>20.7</td>\n      <td>20.700000</td>\n      <td>20.7</td>\n      <td>17.9</td>\n    </tr>\n    <tr>\n      <th>1</th>\n      <td>17.9</td>\n      <td>19.300000</td>\n      <td>20.7</td>\n      <td>18.8</td>\n    </tr>\n    <tr>\n      <th>2</th>\n      <td>17.9</td>\n      <td>19.133333</td>\n      <td>20.7</td>\n      <td>14.6</td>\n    </tr>\n    <tr>\n      <th>3</th>\n      <td>14.6</td>\n      <td>18.000000</td>\n      <td>20.7</td>\n      <td>15.8</td>\n    </tr>\n    <tr>\n      <th>4</th>\n      <td>14.6</td>\n      <td>17.560000</td>\n      <td>20.7</td>\n      <td>15.8</td>\n    </tr>\n    <tr>\n      <th>5</th>\n      <td>14.6</td>\n      <td>17.266667</td>\n      <td>20.7</td>\n      <td>15.8</td>\n    </tr>\n    <tr>\n      <th>6</th>\n      <td>14.6</td>\n      <td>17.057143</td>\n      <td>20.7</td>\n      <td>17.4</td>\n    </tr>\n  </tbody>\n</table>\n</div>"
     },
     "metadata": {},
     "execution_count": 54
    }
   ],
   "source": [
    "# the \"expanding()\" method help collects sets of all prior values for each time step\n",
    "expanding_window = temps.expanding()\n",
    "dataframe_expanding = pd.concat([expanding_window.min(), expanding_window.mean(), expanding_window.max(), temps.shift(-1)], axis=1)\n",
    "dataframe_expanding.columns = [\"min\", \"mean\", \"max\", \"t\"]\n",
    "dataframe_expanding.head(7)"
   ]
  },
  {
   "source": [
    "<h1> Training models <h1>"
   ],
   "cell_type": "markdown",
   "metadata": {}
  },
  {
   "cell_type": "code",
   "execution_count": 55,
   "metadata": {},
   "outputs": [],
   "source": [
    "from sklearn.model_selection import train_test_split\n",
    "from sklearn.metrics import mean_squared_error"
   ]
  },
  {
   "source": [
    "<h2> Data set <h2>"
   ],
   "cell_type": "markdown",
   "metadata": {}
  },
  {
   "cell_type": "code",
   "execution_count": 56,
   "metadata": {},
   "outputs": [
    {
     "output_type": "stream",
     "name": "stdout",
     "text": [
      "    t-1     t\n0   NaN  20.7\n1  20.7  17.9\n2  17.9  18.8\n3  18.8  14.6\n4  14.6  15.8\n\nX1: \n     t-1\n1  20.7\n2  17.9\n3  18.8\n4  14.6\n5  15.8\n\ny1: \n       t\n1  17.9\n2  18.8\n3  14.6\n4  15.8\n5  15.8\n"
     ]
    }
   ],
   "source": [
    "# lag features:\n",
    "temps = pd.DataFrame(series.values)\n",
    "dataframe_shift = pd.concat([temps.shift(1), temps], axis=1)\n",
    "dataframe_shift.columns = ['t-1', 't']\n",
    "print(dataframe_shift.head())\n",
    "\n",
    "X1 = pd.DataFrame(dataframe_shift['t-1'][1:])\n",
    "y1 = pd.DataFrame(dataframe_shift['t'][1:])\n",
    "\n",
    "print(\"\\nX1: \\n\", X1.head())\n",
    "print(\"\\ny1: \\n\", y1.head())\n",
    "\n",
    "# train test split:\n",
    "X1_train, X1_test, y1_train, y1_test = train_test_split(X1, y1, train_size=0.6, random_state=1)\n",
    "\n",
    "\n"
   ]
  },
  {
   "cell_type": "code",
   "execution_count": 57,
   "metadata": {},
   "outputs": [
    {
     "output_type": "stream",
     "name": "stdout",
     "text": [
      "        Mean     t\n0        NaN  20.7\n1        NaN  17.9\n2        NaN  18.8\n3  19.133333  14.6\n4  17.100000  15.8\n5  16.400000  15.8\n6  15.400000  15.8\n7  15.800000  17.4\n8  16.333333  21.8\n\nX2: \n         Mean\n3  19.133333\n4  17.100000\n5  16.400000\n6  15.400000\n7  15.800000\n\ny2: \n       t\n3  14.6\n4  15.8\n5  15.8\n6  15.8\n7  17.4\n"
     ]
    }
   ],
   "source": [
    "# rolling mean:\n",
    "window = shifted.rolling(window=3)\n",
    "dataframe_rolling = pd.concat([window.mean(),temps], axis=1)\n",
    "dataframe_rolling.columns = [\"Mean\", \"t\"]\n",
    "print(dataframe_rolling.head(9))\n",
    "\n",
    "X2 = pd.DataFrame(dataframe_rolling['Mean'][3:])\n",
    "y2 = pd.DataFrame(dataframe_rolling['t'][3:])\n",
    "\n",
    "print(\"\\nX2: \\n\", X2.head())\n",
    "print(\"\\ny2: \\n\", y2.head())\n",
    "\n",
    "# train test split:\n",
    "X2_train, X2_test, y2_train, y2_test = train_test_split(X2, y2, train_size=0.6, random_state=1)"
   ]
  },
  {
   "cell_type": "code",
   "execution_count": 70,
   "metadata": {},
   "outputs": [
    {
     "output_type": "stream",
     "name": "stdout",
     "text": [
      "        Mean     t\n0  20.700000  17.9\n1  19.300000  18.8\n2  19.133333  14.6\n3  18.000000  15.8\n4  17.560000  15.8\n          t\n0     False\n1     False\n2     False\n3     False\n4     False\n...     ...\n3644  False\n3645  False\n3646  False\n3647  False\n3648  False\n\n[3649 rows x 1 columns]\n"
     ]
    }
   ],
   "source": [
    "# expanding mean:\n",
    "expanding_window = temps.expanding()\n",
    "dataframe_expanding = pd.concat([expanding_window.mean(), temps.shift(-1)], axis=1)\n",
    "dataframe_expanding.columns = [\"Mean\", \"t\"]\n",
    "print(dataframe_expanding.head())\n",
    "\n",
    " # expanding window will have NaN as last element\n",
    "X3 = pd.DataFrame(dataframe_expanding['Mean'][:-1])\n",
    "y3 = pd.DataFrame(dataframe_expanding['t'][:-1])\n",
    "\n",
    "# train test split:\n",
    "X3_train, X3_test, y3_train, y3_test = train_test_split(X3, y3, train_size=0.6, random_state=1)\n",
    "\n",
    "\n",
    "\n",
    "\n",
    "\n"
   ]
  },
  {
   "source": [
    "<h2> Linear Regression <h2>"
   ],
   "cell_type": "markdown",
   "metadata": {}
  },
  {
   "cell_type": "code",
   "execution_count": 72,
   "metadata": {},
   "outputs": [],
   "source": [
    "from sklearn.linear_model import LinearRegression\n",
    "\n",
    "# Model for lag feature\n",
    "ln_shift = LinearRegression().fit(X1_train, y1_train)\n",
    "y1_pred = ln_shift.predict(X1_test)\n",
    "ln_shift_accuracy = mean_squared_error(y1_test, y1_pred)\n",
    "\n",
    "# Model for rolling feature\n",
    "ln_rolling = LinearRegression().fit(X2_train, y2_train)\n",
    "y2_pred = ln_rolling.predict(X2_test)\n",
    "ln_rolling_accuracy = mean_squared_error(y2_test, y2_pred)\n",
    "\n",
    "# Model for expanding feature:\n",
    "ln_expanding = LinearRegression().fit(X3_train, y3_train)\n",
    "y3_pred = ln_expanding.predict(X3_test)\n",
    "ln_expanding_accuracy = mean_squared_error(y3_test, y3_pred)\n",
    "\n"
   ]
  },
  {
   "source": [
    "<h2> K-nearest neighbors <h2>"
   ],
   "cell_type": "markdown",
   "metadata": {}
  },
  {
   "cell_type": "code",
   "execution_count": 73,
   "metadata": {},
   "outputs": [],
   "source": [
    "from sklearn.neighbors import KNeighborsRegressor\n",
    "\n",
    "# Model for lag feature:\n",
    "knn_shift = KNeighborsRegressor().fit(X1_train, y1_train)\n",
    "y1_pred = knn_shift.predict(X1_test)\n",
    "knn_shift_accuracy = mean_squared_error(y1_test, y1_pred)\n",
    "\n",
    "# Model for rolling feature:\n",
    "knn_rolling = KNeighborsRegressor().fit(X2_train, y2_train)\n",
    "y2_pred = knn_rolling.predict(X2_test)\n",
    "knn_rolling_accuracy = mean_squared_error(y2_test, y2_pred)\n",
    "\n",
    "# Model for expanding feature:\n",
    "knn_expanding = KNeighborsRegressor().fit(X3_train, y3_train)\n",
    "y3_pred = knn_expanding.predict(X3_test)\n",
    "knn_expanding_accuracy = mean_squared_error(y3_test, y3_pred)"
   ]
  },
  {
   "source": [
    "<h2> Comparison <h2>"
   ],
   "cell_type": "markdown",
   "metadata": {}
  },
  {
   "cell_type": "code",
   "execution_count": 76,
   "metadata": {},
   "outputs": [
    {
     "output_type": "execute_result",
     "data": {
      "text/plain": [
       "<function matplotlib.pyplot.show(close=None, block=None)>"
      ]
     },
     "metadata": {},
     "execution_count": 76
    },
    {
     "output_type": "display_data",
     "data": {
      "text/plain": "<Figure size 432x288 with 1 Axes>",
      "image/svg+xml": "<?xml version=\"1.0\" encoding=\"utf-8\" standalone=\"no\"?>\n<!DOCTYPE svg PUBLIC \"-//W3C//DTD SVG 1.1//EN\"\n  \"http://www.w3.org/Graphics/SVG/1.1/DTD/svg11.dtd\">\n<!-- Created with matplotlib (https://matplotlib.org/) -->\n<svg height=\"248.518125pt\" version=\"1.1\" viewBox=\"0 0 401.967004 248.518125\" width=\"401.967004pt\" xmlns=\"http://www.w3.org/2000/svg\" xmlns:xlink=\"http://www.w3.org/1999/xlink\">\n <metadata>\n  <rdf:RDF xmlns:cc=\"http://creativecommons.org/ns#\" xmlns:dc=\"http://purl.org/dc/elements/1.1/\" xmlns:rdf=\"http://www.w3.org/1999/02/22-rdf-syntax-ns#\">\n   <cc:Work>\n    <dc:type rdf:resource=\"http://purl.org/dc/dcmitype/StillImage\"/>\n    <dc:date>2021-09-21T18:06:48.717972</dc:date>\n    <dc:format>image/svg+xml</dc:format>\n    <dc:creator>\n     <cc:Agent>\n      <dc:title>Matplotlib v3.3.4, https://matplotlib.org/</dc:title>\n     </cc:Agent>\n    </dc:creator>\n   </cc:Work>\n  </rdf:RDF>\n </metadata>\n <defs>\n  <style type=\"text/css\">*{stroke-linecap:butt;stroke-linejoin:round;}</style>\n </defs>\n <g id=\"figure_1\">\n  <g id=\"patch_1\">\n   <path d=\"M 0 248.518125 \nL 401.967004 248.518125 \nL 401.967004 0 \nL 0 0 \nz\n\" style=\"fill:none;\"/>\n  </g>\n  <g id=\"axes_1\">\n   <g id=\"patch_2\">\n    <path d=\"M 36.465625 224.64 \nL 371.265625 224.64 \nL 371.265625 7.2 \nL 36.465625 7.2 \nz\n\" style=\"fill:#ffffff;\"/>\n   </g>\n   <g id=\"patch_3\">\n    <path clip-path=\"url(#p3b72041415)\" d=\"M 51.683807 224.64 \nL 93.664998 224.64 \nL 93.664998 155.384503 \nL 51.683807 155.384503 \nz\n\" style=\"fill:#1f77b4;\"/>\n   </g>\n   <g id=\"patch_4\">\n    <path clip-path=\"url(#p3b72041415)\" d=\"M 104.160296 224.64 \nL 146.141487 224.64 \nL 146.141487 144.187522 \nL 104.160296 144.187522 \nz\n\" style=\"fill:#1f77b4;\"/>\n   </g>\n   <g id=\"patch_5\">\n    <path clip-path=\"url(#p3b72041415)\" d=\"M 156.636785 224.64 \nL 198.617976 224.64 \nL 198.617976 48.333866 \nL 156.636785 48.333866 \nz\n\" style=\"fill:#1f77b4;\"/>\n   </g>\n   <g id=\"patch_6\">\n    <path clip-path=\"url(#p3b72041415)\" d=\"M 209.113274 224.64 \nL 251.094465 224.64 \nL 251.094465 143.123073 \nL 209.113274 143.123073 \nz\n\" style=\"fill:#1f77b4;\"/>\n   </g>\n   <g id=\"patch_7\">\n    <path clip-path=\"url(#p3b72041415)\" d=\"M 261.589763 224.64 \nL 303.570954 224.64 \nL 303.570954 130.608031 \nL 261.589763 130.608031 \nz\n\" style=\"fill:#1f77b4;\"/>\n   </g>\n   <g id=\"patch_8\">\n    <path clip-path=\"url(#p3b72041415)\" d=\"M 314.066252 224.64 \nL 356.047443 224.64 \nL 356.047443 17.554286 \nL 314.066252 17.554286 \nz\n\" style=\"fill:#1f77b4;\"/>\n   </g>\n   <g id=\"matplotlib.axis_1\">\n    <g id=\"xtick_1\">\n     <g id=\"line2d_1\">\n      <defs>\n       <path d=\"M 0 0 \nL 0 3.5 \n\" id=\"m1c7727daba\" style=\"stroke:#000000;stroke-width:0.8;\"/>\n      </defs>\n      <g>\n       <use style=\"stroke:#000000;stroke-width:0.8;\" x=\"72.674402\" xlink:href=\"#m1c7727daba\" y=\"224.64\"/>\n      </g>\n     </g>\n     <g id=\"text_1\">\n      <!-- LR lag features -->\n      <g transform=\"translate(34.954871 239.238437)scale(0.1 -0.1)\">\n       <defs>\n        <path d=\"M 9.8125 72.90625 \nL 19.671875 72.90625 \nL 19.671875 8.296875 \nL 55.171875 8.296875 \nL 55.171875 0 \nL 9.8125 0 \nz\n\" id=\"DejaVuSans-76\"/>\n        <path d=\"M 44.390625 34.1875 \nQ 47.5625 33.109375 50.5625 29.59375 \nQ 53.5625 26.078125 56.59375 19.921875 \nL 66.609375 0 \nL 56 0 \nL 46.6875 18.703125 \nQ 43.0625 26.03125 39.671875 28.421875 \nQ 36.28125 30.8125 30.421875 30.8125 \nL 19.671875 30.8125 \nL 19.671875 0 \nL 9.8125 0 \nL 9.8125 72.90625 \nL 32.078125 72.90625 \nQ 44.578125 72.90625 50.734375 67.671875 \nQ 56.890625 62.453125 56.890625 51.90625 \nQ 56.890625 45.015625 53.6875 40.46875 \nQ 50.484375 35.9375 44.390625 34.1875 \nz\nM 19.671875 64.796875 \nL 19.671875 38.921875 \nL 32.078125 38.921875 \nQ 39.203125 38.921875 42.84375 42.21875 \nQ 46.484375 45.515625 46.484375 51.90625 \nQ 46.484375 58.296875 42.84375 61.546875 \nQ 39.203125 64.796875 32.078125 64.796875 \nz\n\" id=\"DejaVuSans-82\"/>\n        <path id=\"DejaVuSans-32\"/>\n        <path d=\"M 9.421875 75.984375 \nL 18.40625 75.984375 \nL 18.40625 0 \nL 9.421875 0 \nz\n\" id=\"DejaVuSans-108\"/>\n        <path d=\"M 34.28125 27.484375 \nQ 23.390625 27.484375 19.1875 25 \nQ 14.984375 22.515625 14.984375 16.5 \nQ 14.984375 11.71875 18.140625 8.90625 \nQ 21.296875 6.109375 26.703125 6.109375 \nQ 34.1875 6.109375 38.703125 11.40625 \nQ 43.21875 16.703125 43.21875 25.484375 \nL 43.21875 27.484375 \nz\nM 52.203125 31.203125 \nL 52.203125 0 \nL 43.21875 0 \nL 43.21875 8.296875 \nQ 40.140625 3.328125 35.546875 0.953125 \nQ 30.953125 -1.421875 24.3125 -1.421875 \nQ 15.921875 -1.421875 10.953125 3.296875 \nQ 6 8.015625 6 15.921875 \nQ 6 25.140625 12.171875 29.828125 \nQ 18.359375 34.515625 30.609375 34.515625 \nL 43.21875 34.515625 \nL 43.21875 35.40625 \nQ 43.21875 41.609375 39.140625 45 \nQ 35.0625 48.390625 27.6875 48.390625 \nQ 23 48.390625 18.546875 47.265625 \nQ 14.109375 46.140625 10.015625 43.890625 \nL 10.015625 52.203125 \nQ 14.9375 54.109375 19.578125 55.046875 \nQ 24.21875 56 28.609375 56 \nQ 40.484375 56 46.34375 49.84375 \nQ 52.203125 43.703125 52.203125 31.203125 \nz\n\" id=\"DejaVuSans-97\"/>\n        <path d=\"M 45.40625 27.984375 \nQ 45.40625 37.75 41.375 43.109375 \nQ 37.359375 48.484375 30.078125 48.484375 \nQ 22.859375 48.484375 18.828125 43.109375 \nQ 14.796875 37.75 14.796875 27.984375 \nQ 14.796875 18.265625 18.828125 12.890625 \nQ 22.859375 7.515625 30.078125 7.515625 \nQ 37.359375 7.515625 41.375 12.890625 \nQ 45.40625 18.265625 45.40625 27.984375 \nz\nM 54.390625 6.78125 \nQ 54.390625 -7.171875 48.1875 -13.984375 \nQ 42 -20.796875 29.203125 -20.796875 \nQ 24.46875 -20.796875 20.265625 -20.09375 \nQ 16.0625 -19.390625 12.109375 -17.921875 \nL 12.109375 -9.1875 \nQ 16.0625 -11.328125 19.921875 -12.34375 \nQ 23.78125 -13.375 27.78125 -13.375 \nQ 36.625 -13.375 41.015625 -8.765625 \nQ 45.40625 -4.15625 45.40625 5.171875 \nL 45.40625 9.625 \nQ 42.625 4.78125 38.28125 2.390625 \nQ 33.9375 0 27.875 0 \nQ 17.828125 0 11.671875 7.65625 \nQ 5.515625 15.328125 5.515625 27.984375 \nQ 5.515625 40.671875 11.671875 48.328125 \nQ 17.828125 56 27.875 56 \nQ 33.9375 56 38.28125 53.609375 \nQ 42.625 51.21875 45.40625 46.390625 \nL 45.40625 54.6875 \nL 54.390625 54.6875 \nz\n\" id=\"DejaVuSans-103\"/>\n        <path d=\"M 37.109375 75.984375 \nL 37.109375 68.5 \nL 28.515625 68.5 \nQ 23.6875 68.5 21.796875 66.546875 \nQ 19.921875 64.59375 19.921875 59.515625 \nL 19.921875 54.6875 \nL 34.71875 54.6875 \nL 34.71875 47.703125 \nL 19.921875 47.703125 \nL 19.921875 0 \nL 10.890625 0 \nL 10.890625 47.703125 \nL 2.296875 47.703125 \nL 2.296875 54.6875 \nL 10.890625 54.6875 \nL 10.890625 58.5 \nQ 10.890625 67.625 15.140625 71.796875 \nQ 19.390625 75.984375 28.609375 75.984375 \nz\n\" id=\"DejaVuSans-102\"/>\n        <path d=\"M 56.203125 29.59375 \nL 56.203125 25.203125 \nL 14.890625 25.203125 \nQ 15.484375 15.921875 20.484375 11.0625 \nQ 25.484375 6.203125 34.421875 6.203125 \nQ 39.59375 6.203125 44.453125 7.46875 \nQ 49.3125 8.734375 54.109375 11.28125 \nL 54.109375 2.78125 \nQ 49.265625 0.734375 44.1875 -0.34375 \nQ 39.109375 -1.421875 33.890625 -1.421875 \nQ 20.796875 -1.421875 13.15625 6.1875 \nQ 5.515625 13.8125 5.515625 26.8125 \nQ 5.515625 40.234375 12.765625 48.109375 \nQ 20.015625 56 32.328125 56 \nQ 43.359375 56 49.78125 48.890625 \nQ 56.203125 41.796875 56.203125 29.59375 \nz\nM 47.21875 32.234375 \nQ 47.125 39.59375 43.09375 43.984375 \nQ 39.0625 48.390625 32.421875 48.390625 \nQ 24.90625 48.390625 20.390625 44.140625 \nQ 15.875 39.890625 15.1875 32.171875 \nz\n\" id=\"DejaVuSans-101\"/>\n        <path d=\"M 18.3125 70.21875 \nL 18.3125 54.6875 \nL 36.8125 54.6875 \nL 36.8125 47.703125 \nL 18.3125 47.703125 \nL 18.3125 18.015625 \nQ 18.3125 11.328125 20.140625 9.421875 \nQ 21.96875 7.515625 27.59375 7.515625 \nL 36.8125 7.515625 \nL 36.8125 0 \nL 27.59375 0 \nQ 17.1875 0 13.234375 3.875 \nQ 9.28125 7.765625 9.28125 18.015625 \nL 9.28125 47.703125 \nL 2.6875 47.703125 \nL 2.6875 54.6875 \nL 9.28125 54.6875 \nL 9.28125 70.21875 \nz\n\" id=\"DejaVuSans-116\"/>\n        <path d=\"M 8.5 21.578125 \nL 8.5 54.6875 \nL 17.484375 54.6875 \nL 17.484375 21.921875 \nQ 17.484375 14.15625 20.5 10.265625 \nQ 23.53125 6.390625 29.59375 6.390625 \nQ 36.859375 6.390625 41.078125 11.03125 \nQ 45.3125 15.671875 45.3125 23.6875 \nL 45.3125 54.6875 \nL 54.296875 54.6875 \nL 54.296875 0 \nL 45.3125 0 \nL 45.3125 8.40625 \nQ 42.046875 3.421875 37.71875 1 \nQ 33.40625 -1.421875 27.6875 -1.421875 \nQ 18.265625 -1.421875 13.375 4.4375 \nQ 8.5 10.296875 8.5 21.578125 \nz\nM 31.109375 56 \nz\n\" id=\"DejaVuSans-117\"/>\n        <path d=\"M 41.109375 46.296875 \nQ 39.59375 47.171875 37.8125 47.578125 \nQ 36.03125 48 33.890625 48 \nQ 26.265625 48 22.1875 43.046875 \nQ 18.109375 38.09375 18.109375 28.8125 \nL 18.109375 0 \nL 9.078125 0 \nL 9.078125 54.6875 \nL 18.109375 54.6875 \nL 18.109375 46.1875 \nQ 20.953125 51.171875 25.484375 53.578125 \nQ 30.03125 56 36.53125 56 \nQ 37.453125 56 38.578125 55.875 \nQ 39.703125 55.765625 41.0625 55.515625 \nz\n\" id=\"DejaVuSans-114\"/>\n        <path d=\"M 44.28125 53.078125 \nL 44.28125 44.578125 \nQ 40.484375 46.53125 36.375 47.5 \nQ 32.28125 48.484375 27.875 48.484375 \nQ 21.1875 48.484375 17.84375 46.4375 \nQ 14.5 44.390625 14.5 40.28125 \nQ 14.5 37.15625 16.890625 35.375 \nQ 19.28125 33.59375 26.515625 31.984375 \nL 29.59375 31.296875 \nQ 39.15625 29.25 43.1875 25.515625 \nQ 47.21875 21.78125 47.21875 15.09375 \nQ 47.21875 7.46875 41.1875 3.015625 \nQ 35.15625 -1.421875 24.609375 -1.421875 \nQ 20.21875 -1.421875 15.453125 -0.5625 \nQ 10.6875 0.296875 5.421875 2 \nL 5.421875 11.28125 \nQ 10.40625 8.6875 15.234375 7.390625 \nQ 20.0625 6.109375 24.8125 6.109375 \nQ 31.15625 6.109375 34.5625 8.28125 \nQ 37.984375 10.453125 37.984375 14.40625 \nQ 37.984375 18.0625 35.515625 20.015625 \nQ 33.0625 21.96875 24.703125 23.78125 \nL 21.578125 24.515625 \nQ 13.234375 26.265625 9.515625 29.90625 \nQ 5.8125 33.546875 5.8125 39.890625 \nQ 5.8125 47.609375 11.28125 51.796875 \nQ 16.75 56 26.8125 56 \nQ 31.78125 56 36.171875 55.265625 \nQ 40.578125 54.546875 44.28125 53.078125 \nz\n\" id=\"DejaVuSans-115\"/>\n       </defs>\n       <use xlink:href=\"#DejaVuSans-76\"/>\n       <use x=\"55.712891\" xlink:href=\"#DejaVuSans-82\"/>\n       <use x=\"125.195312\" xlink:href=\"#DejaVuSans-32\"/>\n       <use x=\"156.982422\" xlink:href=\"#DejaVuSans-108\"/>\n       <use x=\"184.765625\" xlink:href=\"#DejaVuSans-97\"/>\n       <use x=\"246.044922\" xlink:href=\"#DejaVuSans-103\"/>\n       <use x=\"309.521484\" xlink:href=\"#DejaVuSans-32\"/>\n       <use x=\"341.308594\" xlink:href=\"#DejaVuSans-102\"/>\n       <use x=\"376.513672\" xlink:href=\"#DejaVuSans-101\"/>\n       <use x=\"438.037109\" xlink:href=\"#DejaVuSans-97\"/>\n       <use x=\"499.316406\" xlink:href=\"#DejaVuSans-116\"/>\n       <use x=\"538.525391\" xlink:href=\"#DejaVuSans-117\"/>\n       <use x=\"601.904297\" xlink:href=\"#DejaVuSans-114\"/>\n       <use x=\"640.767578\" xlink:href=\"#DejaVuSans-101\"/>\n       <use x=\"702.291016\" xlink:href=\"#DejaVuSans-115\"/>\n      </g>\n     </g>\n    </g>\n    <g id=\"xtick_2\">\n     <g id=\"line2d_2\">\n      <g>\n       <use style=\"stroke:#000000;stroke-width:0.8;\" x=\"125.150891\" xlink:href=\"#m1c7727daba\" y=\"224.64\"/>\n      </g>\n     </g>\n     <g id=\"text_2\">\n      <!-- LR rolling features -->\n      <g transform=\"translate(79.546204 239.238437)scale(0.1 -0.1)\">\n       <defs>\n        <path d=\"M 30.609375 48.390625 \nQ 23.390625 48.390625 19.1875 42.75 \nQ 14.984375 37.109375 14.984375 27.296875 \nQ 14.984375 17.484375 19.15625 11.84375 \nQ 23.34375 6.203125 30.609375 6.203125 \nQ 37.796875 6.203125 41.984375 11.859375 \nQ 46.1875 17.53125 46.1875 27.296875 \nQ 46.1875 37.015625 41.984375 42.703125 \nQ 37.796875 48.390625 30.609375 48.390625 \nz\nM 30.609375 56 \nQ 42.328125 56 49.015625 48.375 \nQ 55.71875 40.765625 55.71875 27.296875 \nQ 55.71875 13.875 49.015625 6.21875 \nQ 42.328125 -1.421875 30.609375 -1.421875 \nQ 18.84375 -1.421875 12.171875 6.21875 \nQ 5.515625 13.875 5.515625 27.296875 \nQ 5.515625 40.765625 12.171875 48.375 \nQ 18.84375 56 30.609375 56 \nz\n\" id=\"DejaVuSans-111\"/>\n        <path d=\"M 9.421875 54.6875 \nL 18.40625 54.6875 \nL 18.40625 0 \nL 9.421875 0 \nz\nM 9.421875 75.984375 \nL 18.40625 75.984375 \nL 18.40625 64.59375 \nL 9.421875 64.59375 \nz\n\" id=\"DejaVuSans-105\"/>\n        <path d=\"M 54.890625 33.015625 \nL 54.890625 0 \nL 45.90625 0 \nL 45.90625 32.71875 \nQ 45.90625 40.484375 42.875 44.328125 \nQ 39.84375 48.1875 33.796875 48.1875 \nQ 26.515625 48.1875 22.3125 43.546875 \nQ 18.109375 38.921875 18.109375 30.90625 \nL 18.109375 0 \nL 9.078125 0 \nL 9.078125 54.6875 \nL 18.109375 54.6875 \nL 18.109375 46.1875 \nQ 21.34375 51.125 25.703125 53.5625 \nQ 30.078125 56 35.796875 56 \nQ 45.21875 56 50.046875 50.171875 \nQ 54.890625 44.34375 54.890625 33.015625 \nz\n\" id=\"DejaVuSans-110\"/>\n       </defs>\n       <use xlink:href=\"#DejaVuSans-76\"/>\n       <use x=\"55.712891\" xlink:href=\"#DejaVuSans-82\"/>\n       <use x=\"125.195312\" xlink:href=\"#DejaVuSans-32\"/>\n       <use x=\"156.982422\" xlink:href=\"#DejaVuSans-114\"/>\n       <use x=\"195.845703\" xlink:href=\"#DejaVuSans-111\"/>\n       <use x=\"257.027344\" xlink:href=\"#DejaVuSans-108\"/>\n       <use x=\"284.810547\" xlink:href=\"#DejaVuSans-108\"/>\n       <use x=\"312.59375\" xlink:href=\"#DejaVuSans-105\"/>\n       <use x=\"340.376953\" xlink:href=\"#DejaVuSans-110\"/>\n       <use x=\"403.755859\" xlink:href=\"#DejaVuSans-103\"/>\n       <use x=\"467.232422\" xlink:href=\"#DejaVuSans-32\"/>\n       <use x=\"499.019531\" xlink:href=\"#DejaVuSans-102\"/>\n       <use x=\"534.224609\" xlink:href=\"#DejaVuSans-101\"/>\n       <use x=\"595.748047\" xlink:href=\"#DejaVuSans-97\"/>\n       <use x=\"657.027344\" xlink:href=\"#DejaVuSans-116\"/>\n       <use x=\"696.236328\" xlink:href=\"#DejaVuSans-117\"/>\n       <use x=\"759.615234\" xlink:href=\"#DejaVuSans-114\"/>\n       <use x=\"798.478516\" xlink:href=\"#DejaVuSans-101\"/>\n       <use x=\"860.001953\" xlink:href=\"#DejaVuSans-115\"/>\n      </g>\n     </g>\n    </g>\n    <g id=\"xtick_3\">\n     <g id=\"line2d_3\">\n      <g>\n       <use style=\"stroke:#000000;stroke-width:0.8;\" x=\"177.62738\" xlink:href=\"#m1c7727daba\" y=\"224.64\"/>\n      </g>\n     </g>\n     <g id=\"text_3\">\n      <!-- LR for expanding features -->\n      <g transform=\"translate(112.809412 239.238437)scale(0.1 -0.1)\">\n       <defs>\n        <path d=\"M 54.890625 54.6875 \nL 35.109375 28.078125 \nL 55.90625 0 \nL 45.3125 0 \nL 29.390625 21.484375 \nL 13.484375 0 \nL 2.875 0 \nL 24.125 28.609375 \nL 4.6875 54.6875 \nL 15.28125 54.6875 \nL 29.78125 35.203125 \nL 44.28125 54.6875 \nz\n\" id=\"DejaVuSans-120\"/>\n        <path d=\"M 18.109375 8.203125 \nL 18.109375 -20.796875 \nL 9.078125 -20.796875 \nL 9.078125 54.6875 \nL 18.109375 54.6875 \nL 18.109375 46.390625 \nQ 20.953125 51.265625 25.265625 53.625 \nQ 29.59375 56 35.59375 56 \nQ 45.5625 56 51.78125 48.09375 \nQ 58.015625 40.1875 58.015625 27.296875 \nQ 58.015625 14.40625 51.78125 6.484375 \nQ 45.5625 -1.421875 35.59375 -1.421875 \nQ 29.59375 -1.421875 25.265625 0.953125 \nQ 20.953125 3.328125 18.109375 8.203125 \nz\nM 48.6875 27.296875 \nQ 48.6875 37.203125 44.609375 42.84375 \nQ 40.53125 48.484375 33.40625 48.484375 \nQ 26.265625 48.484375 22.1875 42.84375 \nQ 18.109375 37.203125 18.109375 27.296875 \nQ 18.109375 17.390625 22.1875 11.75 \nQ 26.265625 6.109375 33.40625 6.109375 \nQ 40.53125 6.109375 44.609375 11.75 \nQ 48.6875 17.390625 48.6875 27.296875 \nz\n\" id=\"DejaVuSans-112\"/>\n        <path d=\"M 45.40625 46.390625 \nL 45.40625 75.984375 \nL 54.390625 75.984375 \nL 54.390625 0 \nL 45.40625 0 \nL 45.40625 8.203125 \nQ 42.578125 3.328125 38.25 0.953125 \nQ 33.9375 -1.421875 27.875 -1.421875 \nQ 17.96875 -1.421875 11.734375 6.484375 \nQ 5.515625 14.40625 5.515625 27.296875 \nQ 5.515625 40.1875 11.734375 48.09375 \nQ 17.96875 56 27.875 56 \nQ 33.9375 56 38.25 53.625 \nQ 42.578125 51.265625 45.40625 46.390625 \nz\nM 14.796875 27.296875 \nQ 14.796875 17.390625 18.875 11.75 \nQ 22.953125 6.109375 30.078125 6.109375 \nQ 37.203125 6.109375 41.296875 11.75 \nQ 45.40625 17.390625 45.40625 27.296875 \nQ 45.40625 37.203125 41.296875 42.84375 \nQ 37.203125 48.484375 30.078125 48.484375 \nQ 22.953125 48.484375 18.875 42.84375 \nQ 14.796875 37.203125 14.796875 27.296875 \nz\n\" id=\"DejaVuSans-100\"/>\n       </defs>\n       <use xlink:href=\"#DejaVuSans-76\"/>\n       <use x=\"55.712891\" xlink:href=\"#DejaVuSans-82\"/>\n       <use x=\"125.195312\" xlink:href=\"#DejaVuSans-32\"/>\n       <use x=\"156.982422\" xlink:href=\"#DejaVuSans-102\"/>\n       <use x=\"192.1875\" xlink:href=\"#DejaVuSans-111\"/>\n       <use x=\"253.369141\" xlink:href=\"#DejaVuSans-114\"/>\n       <use x=\"294.482422\" xlink:href=\"#DejaVuSans-32\"/>\n       <use x=\"326.269531\" xlink:href=\"#DejaVuSans-101\"/>\n       <use x=\"386.042969\" xlink:href=\"#DejaVuSans-120\"/>\n       <use x=\"445.222656\" xlink:href=\"#DejaVuSans-112\"/>\n       <use x=\"508.699219\" xlink:href=\"#DejaVuSans-97\"/>\n       <use x=\"569.978516\" xlink:href=\"#DejaVuSans-110\"/>\n       <use x=\"633.357422\" xlink:href=\"#DejaVuSans-100\"/>\n       <use x=\"696.833984\" xlink:href=\"#DejaVuSans-105\"/>\n       <use x=\"724.617188\" xlink:href=\"#DejaVuSans-110\"/>\n       <use x=\"787.996094\" xlink:href=\"#DejaVuSans-103\"/>\n       <use x=\"851.472656\" xlink:href=\"#DejaVuSans-32\"/>\n       <use x=\"883.259766\" xlink:href=\"#DejaVuSans-102\"/>\n       <use x=\"918.464844\" xlink:href=\"#DejaVuSans-101\"/>\n       <use x=\"979.988281\" xlink:href=\"#DejaVuSans-97\"/>\n       <use x=\"1041.267578\" xlink:href=\"#DejaVuSans-116\"/>\n       <use x=\"1080.476562\" xlink:href=\"#DejaVuSans-117\"/>\n       <use x=\"1143.855469\" xlink:href=\"#DejaVuSans-114\"/>\n       <use x=\"1182.71875\" xlink:href=\"#DejaVuSans-101\"/>\n       <use x=\"1244.242188\" xlink:href=\"#DejaVuSans-115\"/>\n      </g>\n     </g>\n    </g>\n    <g id=\"xtick_4\">\n     <g id=\"line2d_4\">\n      <g>\n       <use style=\"stroke:#000000;stroke-width:0.8;\" x=\"230.10387\" xlink:href=\"#m1c7727daba\" y=\"224.64\"/>\n      </g>\n     </g>\n     <g id=\"text_4\">\n      <!-- Knn lag features -->\n      <g transform=\"translate(189.028088 239.238437)scale(0.1 -0.1)\">\n       <defs>\n        <path d=\"M 9.8125 72.90625 \nL 19.671875 72.90625 \nL 19.671875 42.09375 \nL 52.390625 72.90625 \nL 65.09375 72.90625 \nL 28.90625 38.921875 \nL 67.671875 0 \nL 54.6875 0 \nL 19.671875 35.109375 \nL 19.671875 0 \nL 9.8125 0 \nz\n\" id=\"DejaVuSans-75\"/>\n       </defs>\n       <use xlink:href=\"#DejaVuSans-75\"/>\n       <use x=\"65.576172\" xlink:href=\"#DejaVuSans-110\"/>\n       <use x=\"128.955078\" xlink:href=\"#DejaVuSans-110\"/>\n       <use x=\"192.333984\" xlink:href=\"#DejaVuSans-32\"/>\n       <use x=\"224.121094\" xlink:href=\"#DejaVuSans-108\"/>\n       <use x=\"251.904297\" xlink:href=\"#DejaVuSans-97\"/>\n       <use x=\"313.183594\" xlink:href=\"#DejaVuSans-103\"/>\n       <use x=\"376.660156\" xlink:href=\"#DejaVuSans-32\"/>\n       <use x=\"408.447266\" xlink:href=\"#DejaVuSans-102\"/>\n       <use x=\"443.652344\" xlink:href=\"#DejaVuSans-101\"/>\n       <use x=\"505.175781\" xlink:href=\"#DejaVuSans-97\"/>\n       <use x=\"566.455078\" xlink:href=\"#DejaVuSans-116\"/>\n       <use x=\"605.664062\" xlink:href=\"#DejaVuSans-117\"/>\n       <use x=\"669.042969\" xlink:href=\"#DejaVuSans-114\"/>\n       <use x=\"707.90625\" xlink:href=\"#DejaVuSans-101\"/>\n       <use x=\"769.429688\" xlink:href=\"#DejaVuSans-115\"/>\n      </g>\n     </g>\n    </g>\n    <g id=\"xtick_5\">\n     <g id=\"line2d_5\">\n      <g>\n       <use style=\"stroke:#000000;stroke-width:0.8;\" x=\"282.580359\" xlink:href=\"#m1c7727daba\" y=\"224.64\"/>\n      </g>\n     </g>\n     <g id=\"text_5\">\n      <!-- Knn rolling features -->\n      <g transform=\"translate(233.619421 239.238437)scale(0.1 -0.1)\">\n       <use xlink:href=\"#DejaVuSans-75\"/>\n       <use x=\"65.576172\" xlink:href=\"#DejaVuSans-110\"/>\n       <use x=\"128.955078\" xlink:href=\"#DejaVuSans-110\"/>\n       <use x=\"192.333984\" xlink:href=\"#DejaVuSans-32\"/>\n       <use x=\"224.121094\" xlink:href=\"#DejaVuSans-114\"/>\n       <use x=\"262.984375\" xlink:href=\"#DejaVuSans-111\"/>\n       <use x=\"324.166016\" xlink:href=\"#DejaVuSans-108\"/>\n       <use x=\"351.949219\" xlink:href=\"#DejaVuSans-108\"/>\n       <use x=\"379.732422\" xlink:href=\"#DejaVuSans-105\"/>\n       <use x=\"407.515625\" xlink:href=\"#DejaVuSans-110\"/>\n       <use x=\"470.894531\" xlink:href=\"#DejaVuSans-103\"/>\n       <use x=\"534.371094\" xlink:href=\"#DejaVuSans-32\"/>\n       <use x=\"566.158203\" xlink:href=\"#DejaVuSans-102\"/>\n       <use x=\"601.363281\" xlink:href=\"#DejaVuSans-101\"/>\n       <use x=\"662.886719\" xlink:href=\"#DejaVuSans-97\"/>\n       <use x=\"724.166016\" xlink:href=\"#DejaVuSans-116\"/>\n       <use x=\"763.375\" xlink:href=\"#DejaVuSans-117\"/>\n       <use x=\"826.753906\" xlink:href=\"#DejaVuSans-114\"/>\n       <use x=\"865.617188\" xlink:href=\"#DejaVuSans-101\"/>\n       <use x=\"927.140625\" xlink:href=\"#DejaVuSans-115\"/>\n      </g>\n     </g>\n    </g>\n    <g id=\"xtick_6\">\n     <g id=\"line2d_6\">\n      <g>\n       <use style=\"stroke:#000000;stroke-width:0.8;\" x=\"335.056848\" xlink:href=\"#m1c7727daba\" y=\"224.64\"/>\n      </g>\n     </g>\n     <g id=\"text_6\">\n      <!-- Knn expanding features -->\n      <g transform=\"translate(275.346691 239.238437)scale(0.1 -0.1)\">\n       <use xlink:href=\"#DejaVuSans-75\"/>\n       <use x=\"65.576172\" xlink:href=\"#DejaVuSans-110\"/>\n       <use x=\"128.955078\" xlink:href=\"#DejaVuSans-110\"/>\n       <use x=\"192.333984\" xlink:href=\"#DejaVuSans-32\"/>\n       <use x=\"224.121094\" xlink:href=\"#DejaVuSans-101\"/>\n       <use x=\"283.894531\" xlink:href=\"#DejaVuSans-120\"/>\n       <use x=\"343.074219\" xlink:href=\"#DejaVuSans-112\"/>\n       <use x=\"406.550781\" xlink:href=\"#DejaVuSans-97\"/>\n       <use x=\"467.830078\" xlink:href=\"#DejaVuSans-110\"/>\n       <use x=\"531.208984\" xlink:href=\"#DejaVuSans-100\"/>\n       <use x=\"594.685547\" xlink:href=\"#DejaVuSans-105\"/>\n       <use x=\"622.46875\" xlink:href=\"#DejaVuSans-110\"/>\n       <use x=\"685.847656\" xlink:href=\"#DejaVuSans-103\"/>\n       <use x=\"749.324219\" xlink:href=\"#DejaVuSans-32\"/>\n       <use x=\"781.111328\" xlink:href=\"#DejaVuSans-102\"/>\n       <use x=\"816.316406\" xlink:href=\"#DejaVuSans-101\"/>\n       <use x=\"877.839844\" xlink:href=\"#DejaVuSans-97\"/>\n       <use x=\"939.119141\" xlink:href=\"#DejaVuSans-116\"/>\n       <use x=\"978.328125\" xlink:href=\"#DejaVuSans-117\"/>\n       <use x=\"1041.707031\" xlink:href=\"#DejaVuSans-114\"/>\n       <use x=\"1080.570312\" xlink:href=\"#DejaVuSans-101\"/>\n       <use x=\"1142.09375\" xlink:href=\"#DejaVuSans-115\"/>\n      </g>\n     </g>\n    </g>\n   </g>\n   <g id=\"matplotlib.axis_2\">\n    <g id=\"ytick_1\">\n     <g id=\"line2d_7\">\n      <defs>\n       <path d=\"M 0 0 \nL -3.5 0 \n\" id=\"m9c21a728b2\" style=\"stroke:#000000;stroke-width:0.8;\"/>\n      </defs>\n      <g>\n       <use style=\"stroke:#000000;stroke-width:0.8;\" x=\"36.465625\" xlink:href=\"#m9c21a728b2\" y=\"224.64\"/>\n      </g>\n     </g>\n     <g id=\"text_7\">\n      <!-- 0.0 -->\n      <g transform=\"translate(13.5625 228.439219)scale(0.1 -0.1)\">\n       <defs>\n        <path d=\"M 31.78125 66.40625 \nQ 24.171875 66.40625 20.328125 58.90625 \nQ 16.5 51.421875 16.5 36.375 \nQ 16.5 21.390625 20.328125 13.890625 \nQ 24.171875 6.390625 31.78125 6.390625 \nQ 39.453125 6.390625 43.28125 13.890625 \nQ 47.125 21.390625 47.125 36.375 \nQ 47.125 51.421875 43.28125 58.90625 \nQ 39.453125 66.40625 31.78125 66.40625 \nz\nM 31.78125 74.21875 \nQ 44.046875 74.21875 50.515625 64.515625 \nQ 56.984375 54.828125 56.984375 36.375 \nQ 56.984375 17.96875 50.515625 8.265625 \nQ 44.046875 -1.421875 31.78125 -1.421875 \nQ 19.53125 -1.421875 13.0625 8.265625 \nQ 6.59375 17.96875 6.59375 36.375 \nQ 6.59375 54.828125 13.0625 64.515625 \nQ 19.53125 74.21875 31.78125 74.21875 \nz\n\" id=\"DejaVuSans-48\"/>\n        <path d=\"M 10.6875 12.40625 \nL 21 12.40625 \nL 21 0 \nL 10.6875 0 \nz\n\" id=\"DejaVuSans-46\"/>\n       </defs>\n       <use xlink:href=\"#DejaVuSans-48\"/>\n       <use x=\"63.623047\" xlink:href=\"#DejaVuSans-46\"/>\n       <use x=\"95.410156\" xlink:href=\"#DejaVuSans-48\"/>\n      </g>\n     </g>\n    </g>\n    <g id=\"ytick_2\">\n     <g id=\"line2d_8\">\n      <g>\n       <use style=\"stroke:#000000;stroke-width:0.8;\" x=\"36.465625\" xlink:href=\"#m9c21a728b2\" y=\"198.231457\"/>\n      </g>\n     </g>\n     <g id=\"text_8\">\n      <!-- 2.5 -->\n      <g transform=\"translate(13.5625 202.030676)scale(0.1 -0.1)\">\n       <defs>\n        <path d=\"M 19.1875 8.296875 \nL 53.609375 8.296875 \nL 53.609375 0 \nL 7.328125 0 \nL 7.328125 8.296875 \nQ 12.9375 14.109375 22.625 23.890625 \nQ 32.328125 33.6875 34.8125 36.53125 \nQ 39.546875 41.84375 41.421875 45.53125 \nQ 43.3125 49.21875 43.3125 52.78125 \nQ 43.3125 58.59375 39.234375 62.25 \nQ 35.15625 65.921875 28.609375 65.921875 \nQ 23.96875 65.921875 18.8125 64.3125 \nQ 13.671875 62.703125 7.8125 59.421875 \nL 7.8125 69.390625 \nQ 13.765625 71.78125 18.9375 73 \nQ 24.125 74.21875 28.421875 74.21875 \nQ 39.75 74.21875 46.484375 68.546875 \nQ 53.21875 62.890625 53.21875 53.421875 \nQ 53.21875 48.921875 51.53125 44.890625 \nQ 49.859375 40.875 45.40625 35.40625 \nQ 44.1875 33.984375 37.640625 27.21875 \nQ 31.109375 20.453125 19.1875 8.296875 \nz\n\" id=\"DejaVuSans-50\"/>\n        <path d=\"M 10.796875 72.90625 \nL 49.515625 72.90625 \nL 49.515625 64.59375 \nL 19.828125 64.59375 \nL 19.828125 46.734375 \nQ 21.96875 47.46875 24.109375 47.828125 \nQ 26.265625 48.1875 28.421875 48.1875 \nQ 40.625 48.1875 47.75 41.5 \nQ 54.890625 34.8125 54.890625 23.390625 \nQ 54.890625 11.625 47.5625 5.09375 \nQ 40.234375 -1.421875 26.90625 -1.421875 \nQ 22.3125 -1.421875 17.546875 -0.640625 \nQ 12.796875 0.140625 7.71875 1.703125 \nL 7.71875 11.625 \nQ 12.109375 9.234375 16.796875 8.0625 \nQ 21.484375 6.890625 26.703125 6.890625 \nQ 35.15625 6.890625 40.078125 11.328125 \nQ 45.015625 15.765625 45.015625 23.390625 \nQ 45.015625 31 40.078125 35.4375 \nQ 35.15625 39.890625 26.703125 39.890625 \nQ 22.75 39.890625 18.8125 39.015625 \nQ 14.890625 38.140625 10.796875 36.28125 \nz\n\" id=\"DejaVuSans-53\"/>\n       </defs>\n       <use xlink:href=\"#DejaVuSans-50\"/>\n       <use x=\"63.623047\" xlink:href=\"#DejaVuSans-46\"/>\n       <use x=\"95.410156\" xlink:href=\"#DejaVuSans-53\"/>\n      </g>\n     </g>\n    </g>\n    <g id=\"ytick_3\">\n     <g id=\"line2d_9\">\n      <g>\n       <use style=\"stroke:#000000;stroke-width:0.8;\" x=\"36.465625\" xlink:href=\"#m9c21a728b2\" y=\"171.822914\"/>\n      </g>\n     </g>\n     <g id=\"text_9\">\n      <!-- 5.0 -->\n      <g transform=\"translate(13.5625 175.622133)scale(0.1 -0.1)\">\n       <use xlink:href=\"#DejaVuSans-53\"/>\n       <use x=\"63.623047\" xlink:href=\"#DejaVuSans-46\"/>\n       <use x=\"95.410156\" xlink:href=\"#DejaVuSans-48\"/>\n      </g>\n     </g>\n    </g>\n    <g id=\"ytick_4\">\n     <g id=\"line2d_10\">\n      <g>\n       <use style=\"stroke:#000000;stroke-width:0.8;\" x=\"36.465625\" xlink:href=\"#m9c21a728b2\" y=\"145.414371\"/>\n      </g>\n     </g>\n     <g id=\"text_10\">\n      <!-- 7.5 -->\n      <g transform=\"translate(13.5625 149.21359)scale(0.1 -0.1)\">\n       <defs>\n        <path d=\"M 8.203125 72.90625 \nL 55.078125 72.90625 \nL 55.078125 68.703125 \nL 28.609375 0 \nL 18.3125 0 \nL 43.21875 64.59375 \nL 8.203125 64.59375 \nz\n\" id=\"DejaVuSans-55\"/>\n       </defs>\n       <use xlink:href=\"#DejaVuSans-55\"/>\n       <use x=\"63.623047\" xlink:href=\"#DejaVuSans-46\"/>\n       <use x=\"95.410156\" xlink:href=\"#DejaVuSans-53\"/>\n      </g>\n     </g>\n    </g>\n    <g id=\"ytick_5\">\n     <g id=\"line2d_11\">\n      <g>\n       <use style=\"stroke:#000000;stroke-width:0.8;\" x=\"36.465625\" xlink:href=\"#m9c21a728b2\" y=\"119.005828\"/>\n      </g>\n     </g>\n     <g id=\"text_11\">\n      <!-- 10.0 -->\n      <g transform=\"translate(7.2 122.805047)scale(0.1 -0.1)\">\n       <defs>\n        <path d=\"M 12.40625 8.296875 \nL 28.515625 8.296875 \nL 28.515625 63.921875 \nL 10.984375 60.40625 \nL 10.984375 69.390625 \nL 28.421875 72.90625 \nL 38.28125 72.90625 \nL 38.28125 8.296875 \nL 54.390625 8.296875 \nL 54.390625 0 \nL 12.40625 0 \nz\n\" id=\"DejaVuSans-49\"/>\n       </defs>\n       <use xlink:href=\"#DejaVuSans-49\"/>\n       <use x=\"63.623047\" xlink:href=\"#DejaVuSans-48\"/>\n       <use x=\"127.246094\" xlink:href=\"#DejaVuSans-46\"/>\n       <use x=\"159.033203\" xlink:href=\"#DejaVuSans-48\"/>\n      </g>\n     </g>\n    </g>\n    <g id=\"ytick_6\">\n     <g id=\"line2d_12\">\n      <g>\n       <use style=\"stroke:#000000;stroke-width:0.8;\" x=\"36.465625\" xlink:href=\"#m9c21a728b2\" y=\"92.597285\"/>\n      </g>\n     </g>\n     <g id=\"text_12\">\n      <!-- 12.5 -->\n      <g transform=\"translate(7.2 96.396504)scale(0.1 -0.1)\">\n       <use xlink:href=\"#DejaVuSans-49\"/>\n       <use x=\"63.623047\" xlink:href=\"#DejaVuSans-50\"/>\n       <use x=\"127.246094\" xlink:href=\"#DejaVuSans-46\"/>\n       <use x=\"159.033203\" xlink:href=\"#DejaVuSans-53\"/>\n      </g>\n     </g>\n    </g>\n    <g id=\"ytick_7\">\n     <g id=\"line2d_13\">\n      <g>\n       <use style=\"stroke:#000000;stroke-width:0.8;\" x=\"36.465625\" xlink:href=\"#m9c21a728b2\" y=\"66.188742\"/>\n      </g>\n     </g>\n     <g id=\"text_13\">\n      <!-- 15.0 -->\n      <g transform=\"translate(7.2 69.987961)scale(0.1 -0.1)\">\n       <use xlink:href=\"#DejaVuSans-49\"/>\n       <use x=\"63.623047\" xlink:href=\"#DejaVuSans-53\"/>\n       <use x=\"127.246094\" xlink:href=\"#DejaVuSans-46\"/>\n       <use x=\"159.033203\" xlink:href=\"#DejaVuSans-48\"/>\n      </g>\n     </g>\n    </g>\n    <g id=\"ytick_8\">\n     <g id=\"line2d_14\">\n      <g>\n       <use style=\"stroke:#000000;stroke-width:0.8;\" x=\"36.465625\" xlink:href=\"#m9c21a728b2\" y=\"39.780199\"/>\n      </g>\n     </g>\n     <g id=\"text_14\">\n      <!-- 17.5 -->\n      <g transform=\"translate(7.2 43.579418)scale(0.1 -0.1)\">\n       <use xlink:href=\"#DejaVuSans-49\"/>\n       <use x=\"63.623047\" xlink:href=\"#DejaVuSans-55\"/>\n       <use x=\"127.246094\" xlink:href=\"#DejaVuSans-46\"/>\n       <use x=\"159.033203\" xlink:href=\"#DejaVuSans-53\"/>\n      </g>\n     </g>\n    </g>\n    <g id=\"ytick_9\">\n     <g id=\"line2d_15\">\n      <g>\n       <use style=\"stroke:#000000;stroke-width:0.8;\" x=\"36.465625\" xlink:href=\"#m9c21a728b2\" y=\"13.371656\"/>\n      </g>\n     </g>\n     <g id=\"text_15\">\n      <!-- 20.0 -->\n      <g transform=\"translate(7.2 17.170875)scale(0.1 -0.1)\">\n       <use xlink:href=\"#DejaVuSans-50\"/>\n       <use x=\"63.623047\" xlink:href=\"#DejaVuSans-48\"/>\n       <use x=\"127.246094\" xlink:href=\"#DejaVuSans-46\"/>\n       <use x=\"159.033203\" xlink:href=\"#DejaVuSans-48\"/>\n      </g>\n     </g>\n    </g>\n   </g>\n   <g id=\"patch_9\">\n    <path d=\"M 36.465625 224.64 \nL 36.465625 7.2 \n\" style=\"fill:none;stroke:#000000;stroke-linecap:square;stroke-linejoin:miter;stroke-width:0.8;\"/>\n   </g>\n   <g id=\"patch_10\">\n    <path d=\"M 371.265625 224.64 \nL 371.265625 7.2 \n\" style=\"fill:none;stroke:#000000;stroke-linecap:square;stroke-linejoin:miter;stroke-width:0.8;\"/>\n   </g>\n   <g id=\"patch_11\">\n    <path d=\"M 36.465625 224.64 \nL 371.265625 224.64 \n\" style=\"fill:none;stroke:#000000;stroke-linecap:square;stroke-linejoin:miter;stroke-width:0.8;\"/>\n   </g>\n   <g id=\"patch_12\">\n    <path d=\"M 36.465625 7.2 \nL 371.265625 7.2 \n\" style=\"fill:none;stroke:#000000;stroke-linecap:square;stroke-linejoin:miter;stroke-width:0.8;\"/>\n   </g>\n  </g>\n </g>\n <defs>\n  <clipPath id=\"p3b72041415\">\n   <rect height=\"217.44\" width=\"334.8\" x=\"36.465625\" y=\"7.2\"/>\n  </clipPath>\n </defs>\n</svg>\n",
      "image/png": "[encoded data removed]"
     },
     "metadata": {
      "needs_background": "light"
     }
    }
   ],
   "source": [
    "import matplotlib.pyplot as plt\n",
    "\n",
    "data_labels = ['LR lag features',\n",
    "                'LR rolling features',\n",
    "                'LR for expanding features',\n",
    "                'Knn lag features',\n",
    "                'Knn rolling features',\n",
    "                'Knn expanding features']\n",
    "\n",
    "accuracy_values = [ln_shift_accuracy, ln_rolling_accuracy, ln_expanding_accuracy, knn_shift_accuracy, knn_rolling_accuracy, knn_expanding_accuracy]\n",
    "\n",
    "plt.bar(x = data_labels, height=accuracy_values)\n",
    "plt.show\n"
   ]
  },
  {
   "source": [
    "So Expanding windows statistic is the best way of feature engineering for times series dataset. \n",
    "For this dataset, the K-nearest neighbors models have better result than Linear regression models"
   ],
   "cell_type": "markdown",
   "metadata": {}
  }
 ]
}